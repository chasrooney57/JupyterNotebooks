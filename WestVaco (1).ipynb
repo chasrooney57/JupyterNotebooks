{
  "metadata": {
    "language_info": {
      "codemirror_mode": {
        "name": "python",
        "version": 3
      },
      "file_extension": ".py",
      "mimetype": "text/x-python",
      "name": "python",
      "nbconvert_exporter": "python",
      "pygments_lexer": "ipython3",
      "version": "3.8"
    },
    "kernelspec": {
      "name": "python",
      "display_name": "Python (Pyodide)",
      "language": "python"
    }
  },
  "nbformat_minor": 4,
  "nbformat": 4,
  "cells": [
    {
      "cell_type": "code",
      "source": "import random\nimport matplotlib.pyplot as plt",
      "metadata": {
        "trusted": true
      },
      "execution_count": null,
      "outputs": []
    },
    {
      "cell_type": "code",
      "source": "from statistics import mean",
      "metadata": {
        "trusted": true
      },
      "execution_count": null,
      "outputs": []
    },
    {
      "cell_type": "markdown",
      "source": "The Case of Martin vs. Westvaco\nBack in 1994, Robert Martin was laid off from his job at Westvaco, Inc., (an envelope company) soon after he turned 55 years old. Martin believed that he was fired because of his age and sued Westvaco for age discrimination. A major piece of Martin’s case was based on a statistical analysis of the ages of the Westvaco employees. We will be taking a look at small sample of the data that was part of this court case.",
      "metadata": {}
    },
    {
      "cell_type": "markdown",
      "source": "1.0 - The Data\nThis is data from one of Westvaco's departments. There were three employees that were fired from this department.\n\nAges of all the employees in this department: 25, 33, 35, 38, 48, 55, 55, 55, 56, 64\nAges of the three who were fired: 55, 55, 64\n\n1.1 - What in the data supports Martin's claim of age discrimination?\n\n1.2 - What in the data supports the company's claim that it was NOT age discrimination?",
      "metadata": {}
    },
    {
      "cell_type": "markdown",
      "source": "1.3 - We've put in the ages of all the employees into an object called everyone. Write some code to save the ages of the three fired employees into an object called fired.",
      "metadata": {}
    },
    {
      "cell_type": "code",
      "source": "everyone = [25, 33, 35, 38, 48, 55, 55, 55, 56, 64]",
      "metadata": {
        "trusted": true
      },
      "execution_count": null,
      "outputs": []
    },
    {
      "cell_type": "code",
      "source": "mean(everyone)",
      "metadata": {
        "trusted": true
      },
      "execution_count": null,
      "outputs": []
    },
    {
      "cell_type": "code",
      "source": "#Exercise\n#Create a new list called fired, containing the ages \n#of those fired.\n",
      "metadata": {},
      "execution_count": null,
      "outputs": []
    },
    {
      "cell_type": "code",
      "source": "#Exercise\n#Find the mean of the new list",
      "metadata": {},
      "execution_count": null,
      "outputs": []
    },
    {
      "cell_type": "code",
      "source": "fired_randomly = random.sample(everyone,3)",
      "metadata": {
        "trusted": true
      },
      "execution_count": null,
      "outputs": []
    },
    {
      "cell_type": "code",
      "source": "mean(fired_randomly)",
      "metadata": {
        "trusted": true
      },
      "execution_count": null,
      "outputs": []
    },
    {
      "cell_type": "code",
      "source": "samp_dist = []\nfor i in range(10000):\n    samp_dist.append(mean(random.sample(everyone,3)))",
      "metadata": {
        "trusted": true
      },
      "execution_count": null,
      "outputs": []
    },
    {
      "cell_type": "code",
      "source": "mean(samp_dist)",
      "metadata": {
        "trusted": true
      },
      "execution_count": null,
      "outputs": []
    },
    {
      "cell_type": "code",
      "source": "bins = list(range(30,61,1))",
      "metadata": {
        "trusted": true
      },
      "execution_count": null,
      "outputs": []
    },
    {
      "cell_type": "code",
      "source": "plt.hist(samp_dist,bins = bins);",
      "metadata": {
        "trusted": true
      },
      "execution_count": null,
      "outputs": []
    },
    {
      "cell_type": "code",
      "source": "",
      "metadata": {},
      "execution_count": null,
      "outputs": []
    }
  ]
}